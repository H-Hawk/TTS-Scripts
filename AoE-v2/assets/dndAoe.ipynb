{
 "cells": [
  {
   "cell_type": "code",
   "execution_count": 2,
   "id": "4e66f304",
   "metadata": {},
   "outputs": [
    {
     "name": "stdout",
     "output_type": "stream",
     "text": [
      "Collecting opencv-python\n",
      "  Using cached opencv_python-4.5.5.64-cp36-abi3-manylinux_2_17_x86_64.manylinux2014_x86_64.whl (60.5 MB)\n",
      "Requirement already satisfied: numpy>=1.14.5; python_version >= \"3.7\" in /home/hawk/.local/lib/python3.8/site-packages (from opencv-python) (1.22.3)\n",
      "Installing collected packages: opencv-python\n",
      "Successfully installed opencv-python-4.5.5.64\n"
     ]
    }
   ],
   "source": [
    "!pip install opencv-python"
   ]
  },
  {
   "cell_type": "code",
   "execution_count": 2,
   "id": "aa09d9e4",
   "metadata": {},
   "outputs": [],
   "source": [
    "import numpy as np\n",
    "import cv2\n",
    "import os\n",
    "import math"
   ]
  },
  {
   "cell_type": "code",
   "execution_count": 3,
   "id": "2d565d40",
   "metadata": {},
   "outputs": [],
   "source": [
    "def drawShape(length, width, condition):\n",
    "    img = np.zeros((length, length, 3))\n",
    "    \n",
    "    for x in range(0,length):\n",
    "        for y in range(0, length):\n",
    "            if condition(x,y):\n",
    "                img[x,y] = np.ones((3))*255\n",
    "    return img"
   ]
  },
  {
   "cell_type": "code",
   "execution_count": 4,
   "id": "8818bb25",
   "metadata": {},
   "outputs": [],
   "source": [
    "def square(length, width=20):\n",
    "    onSide = lambda x: x < width or x > (length-(width+1))\n",
    "    onSquare = lambda x, y: onSide(x) or onSide(y)\n",
    "    \n",
    "    return drawShape(length, width, onSquare)"
   ]
  },
  {
   "cell_type": "code",
   "execution_count": 5,
   "id": "0d5d92f2",
   "metadata": {},
   "outputs": [],
   "source": [
    "def circle(length, width=20):\n",
    "    onCircle = lambda x, y: math.sqrt(x**2+y**2) > (length-1)/2-width and math.sqrt(x**2+y**2) < (length-1)/2\n",
    "    shiftToCenter = lambda x: x - (length-1)/2\n",
    "    onCenterCircle = lambda x, y: onCircle(shiftToCenter(x), shiftToCenter(y))\n",
    "    \n",
    "    return drawShape(length, width, onCenterCircle)"
   ]
  },
  {
   "cell_type": "code",
   "execution_count": 6,
   "id": "70750eb9",
   "metadata": {},
   "outputs": [],
   "source": [
    "def cone(length, width=20):\n",
    "    coneCalc = lambda x, y: abs((length-1)/2-x)*2 - ((length-1)/2-y)\n",
    "    \n",
    "    coneTop = lambda x, y: not coneCalc(x,y) > -width and y < width\n",
    "    coneSide = lambda x, y: coneCalc(x,y) < width and coneCalc(x,y) > -width\n",
    "    onCone = lambda y, x: coneSide(x,y) or coneTop(x,y) \n",
    "    \n",
    "    return drawShape(length, width, onCone)"
   ]
  },
  {
   "cell_type": "code",
   "execution_count": 7,
   "id": "125f47bf",
   "metadata": {},
   "outputs": [],
   "source": [
    "def line(length, width=20):\n",
    "    onLine = lambda x, y: x < length/2 and (y > length/2 - (width/2 + 1) and y < length/2 + width/2)\n",
    "    \n",
    "    return drawShape(length, width, onLine)"
   ]
  },
  {
   "cell_type": "code",
   "execution_count": 27,
   "id": "50dcdf5e",
   "metadata": {},
   "outputs": [],
   "source": [
    "def centerSquare(length, width=20):\n",
    "    onTop = lambda x, y: x < width and y > length/4 - (width/2 + 1) and y < (3*length/4) + width/2\n",
    "    onBot = lambda x, y: x > length/2 - (width+1) and x < length/2 and y > length/4 - (width/2 + 1) and y < (3*length/4) + width/2\n",
    "    onLeft = lambda x, y: x < length/2 and y > length/4 - (width/2 + 1) and y < (length/4) + width/2\n",
    "    onRight = lambda x, y: x < length/2 and y > (3*length/4) - (width/2 + 1) and y < (3*length/4) + width/2\n",
    "    onSquare = lambda x, y: onTop(x,y) or onBot(x,y) or onLeft(x,y) or onRight(x,y)\n",
    "    \n",
    "    return drawShape(length, width, onSquare)"
   ]
  },
  {
   "cell_type": "code",
   "execution_count": 28,
   "id": "193604ba",
   "metadata": {},
   "outputs": [
    {
     "data": {
      "text/plain": [
       "True"
      ]
     },
     "execution_count": 28,
     "metadata": {},
     "output_type": "execute_result"
    }
   ],
   "source": [
    "t = centerSquare(4096)\n",
    "\n",
    "cv2.imwrite('test.png', t)"
   ]
  },
  {
   "cell_type": "code",
   "execution_count": 8,
   "id": "608067a6",
   "metadata": {},
   "outputs": [
    {
     "data": {
      "text/plain": [
       "True"
      ]
     },
     "execution_count": 8,
     "metadata": {},
     "output_type": "execute_result"
    }
   ],
   "source": [
    "cv2.imwrite('line.png', line(4096, 30))\n",
    "cv2.imwrite('cone.png', cone(4096, 30))\n",
    "cv2.imwrite('square.png', square(4096, 40))\n",
    "cv2.imwrite('circle.png', circle(4096, 30))"
   ]
  }
 ],
 "metadata": {
  "kernelspec": {
   "display_name": "Python 3 (ipykernel)",
   "language": "python",
   "name": "python3"
  },
  "language_info": {
   "codemirror_mode": {
    "name": "ipython",
    "version": 3
   },
   "file_extension": ".py",
   "mimetype": "text/x-python",
   "name": "python",
   "nbconvert_exporter": "python",
   "pygments_lexer": "ipython3",
   "version": "3.8.10"
  }
 },
 "nbformat": 4,
 "nbformat_minor": 5
}
